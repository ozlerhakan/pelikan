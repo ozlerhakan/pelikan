{
 "cells": [
  {
   "cell_type": "code",
   "execution_count": 1,
   "id": "21e22fc9-89eb-4be7-ae9d-1606c943cae1",
   "metadata": {},
   "outputs": [],
   "source": [
    "import pandas as pd\n",
    "# import pandas"
   ]
  },
  {
   "cell_type": "code",
   "execution_count": 10,
   "id": "79b18e27-8084-44ec-9db4-34633502a65c",
   "metadata": {},
   "outputs": [],
   "source": [
    "# import matplotlib\n",
    "import matplotlib.pyplot as plt"
   ]
  },
  {
   "cell_type": "code",
   "execution_count": 9,
   "id": "9ba90e35-f4a9-4c55-8405-1220edeb4ee0",
   "metadata": {},
   "outputs": [],
   "source": [
    "import seaborn as sns\n",
    "# import searborn"
   ]
  },
  {
   "cell_type": "code",
   "execution_count": 124,
   "id": "8f3df8c1-c67f-4767-9a03-df909aa8f9f3",
   "metadata": {},
   "outputs": [],
   "source": [
    "df = pd.read_json('data.json', lines=True) # import data first\n",
    "# create a data frame"
   ]
  },
  {
   "cell_type": "code",
   "execution_count": 125,
   "id": "d6da879e-ab34-4cf2-974f-41b9166c899c",
   "metadata": {
    "pycharm": {
     "name": "#%%\n"
    }
   },
   "outputs": [
    {
     "data": {
      "text/html": [
       "<div>\n",
       "<style scoped>\n",
       "    .dataframe tbody tr th:only-of-type {\n",
       "        vertical-align: middle;\n",
       "    }\n",
       "\n",
       "    .dataframe tbody tr th {\n",
       "        vertical-align: top;\n",
       "    }\n",
       "\n",
       "    .dataframe thead th {\n",
       "        text-align: right;\n",
       "    }\n",
       "</style>\n",
       "<table border=\"1\" class=\"dataframe\">\n",
       "  <thead>\n",
       "    <tr style=\"text-align: right;\">\n",
       "      <th></th>\n",
       "      <th>date</th>\n",
       "      <th>color</th>\n",
       "      <th>diffType</th>\n",
       "      <th>icon</th>\n",
       "      <th>title</th>\n",
       "      <th>userId</th>\n",
       "      <th>id</th>\n",
       "      <th>__key__</th>\n",
       "      <th>__error__</th>\n",
       "      <th>__has_error__</th>\n",
       "      <th>createdAt</th>\n",
       "      <th>updatedAt</th>\n",
       "      <th>order</th>\n",
       "    </tr>\n",
       "  </thead>\n",
       "  <tbody>\n",
       "    <tr>\n",
       "      <th>0</th>\n",
       "      <td>{'date_time': '2019-07-09 12:00:55.436 UTC', '...</td>\n",
       "      <td>#F50572</td>\n",
       "      <td>days</td>\n",
       "      <td>calendar-o</td>\n",
       "      <td>Evlndigimiz gün</td>\n",
       "      <td>02BGjPiOf5UCCl75GzJ5lgWDcgA3</td>\n",
       "      <td>_bbaqfwftw</td>\n",
       "      <td>{'namespace': '', 'app': 's~saydimkaygunoldu',...</td>\n",
       "      <td>[]</td>\n",
       "      <td>False</td>\n",
       "      <td>NaN</td>\n",
       "      <td>NaN</td>\n",
       "      <td>NaN</td>\n",
       "    </tr>\n",
       "    <tr>\n",
       "      <th>1</th>\n",
       "      <td>{'date_time': '2019-11-12 07:15:40.743 UTC', '...</td>\n",
       "      <td>#DB0204</td>\n",
       "      <td>days</td>\n",
       "      <td>calendar-o</td>\n",
       "      <td>Viyanadan döndüm</td>\n",
       "      <td>02BGjPiOf5UCCl75GzJ5lgWDcgA3</td>\n",
       "      <td>_hb6rqpzro</td>\n",
       "      <td>{'namespace': '', 'app': 's~saydimkaygunoldu',...</td>\n",
       "      <td>[]</td>\n",
       "      <td>False</td>\n",
       "      <td>NaN</td>\n",
       "      <td>NaN</td>\n",
       "      <td>NaN</td>\n",
       "    </tr>\n",
       "    <tr>\n",
       "      <th>2</th>\n",
       "      <td>{'date_time': '2020-07-23 13:30:00.739 UTC', '...</td>\n",
       "      <td>#000000</td>\n",
       "      <td>days</td>\n",
       "      <td>group</td>\n",
       "      <td>Hamile kalmak istiyorum</td>\n",
       "      <td>02BGjPiOf5UCCl75GzJ5lgWDcgA3</td>\n",
       "      <td>_nf6kwcmf6</td>\n",
       "      <td>{'namespace': '', 'app': 's~saydimkaygunoldu',...</td>\n",
       "      <td>[]</td>\n",
       "      <td>False</td>\n",
       "      <td>NaN</td>\n",
       "      <td>NaN</td>\n",
       "      <td>NaN</td>\n",
       "    </tr>\n",
       "    <tr>\n",
       "      <th>3</th>\n",
       "      <td>{'date_time': '2019-07-12 07:16:23.131 UTC', '...</td>\n",
       "      <td>#E6950A</td>\n",
       "      <td>days</td>\n",
       "      <td>calendar-o</td>\n",
       "      <td>Dügünümüz oldu</td>\n",
       "      <td>02BGjPiOf5UCCl75GzJ5lgWDcgA3</td>\n",
       "      <td>_fwuwpesqj</td>\n",
       "      <td>{'namespace': '', 'app': 's~saydimkaygunoldu',...</td>\n",
       "      <td>[]</td>\n",
       "      <td>False</td>\n",
       "      <td>NaN</td>\n",
       "      <td>NaN</td>\n",
       "      <td>NaN</td>\n",
       "    </tr>\n",
       "    <tr>\n",
       "      <th>4</th>\n",
       "      <td>{'string': '2020-08-14T21:00:47.444Z', 'provid...</td>\n",
       "      <td>#DB0204</td>\n",
       "      <td>days</td>\n",
       "      <td>heart</td>\n",
       "      <td>Düğünümüz♥️</td>\n",
       "      <td>04DoA03OPVfN82KbecwUfWFwEt63</td>\n",
       "      <td>_htvszp7gl</td>\n",
       "      <td>{'namespace': '', 'app': 's~saydimkaygunoldu',...</td>\n",
       "      <td>[]</td>\n",
       "      <td>False</td>\n",
       "      <td>NaN</td>\n",
       "      <td>NaN</td>\n",
       "      <td>NaN</td>\n",
       "    </tr>\n",
       "  </tbody>\n",
       "</table>\n",
       "</div>"
      ],
      "text/plain": [
       "                                                date    color diffType  \\\n",
       "0  {'date_time': '2019-07-09 12:00:55.436 UTC', '...  #F50572     days   \n",
       "1  {'date_time': '2019-11-12 07:15:40.743 UTC', '...  #DB0204     days   \n",
       "2  {'date_time': '2020-07-23 13:30:00.739 UTC', '...  #000000     days   \n",
       "3  {'date_time': '2019-07-12 07:16:23.131 UTC', '...  #E6950A     days   \n",
       "4  {'string': '2020-08-14T21:00:47.444Z', 'provid...  #DB0204     days   \n",
       "\n",
       "         icon                     title                        userId  \\\n",
       "0  calendar-o          Evlndigimiz gün   02BGjPiOf5UCCl75GzJ5lgWDcgA3   \n",
       "1  calendar-o         Viyanadan döndüm   02BGjPiOf5UCCl75GzJ5lgWDcgA3   \n",
       "2       group  Hamile kalmak istiyorum   02BGjPiOf5UCCl75GzJ5lgWDcgA3   \n",
       "3  calendar-o            Dügünümüz oldu  02BGjPiOf5UCCl75GzJ5lgWDcgA3   \n",
       "4       heart               Düğünümüz♥️  04DoA03OPVfN82KbecwUfWFwEt63   \n",
       "\n",
       "           id                                            __key__ __error__  \\\n",
       "0  _bbaqfwftw  {'namespace': '', 'app': 's~saydimkaygunoldu',...        []   \n",
       "1  _hb6rqpzro  {'namespace': '', 'app': 's~saydimkaygunoldu',...        []   \n",
       "2  _nf6kwcmf6  {'namespace': '', 'app': 's~saydimkaygunoldu',...        []   \n",
       "3  _fwuwpesqj  {'namespace': '', 'app': 's~saydimkaygunoldu',...        []   \n",
       "4  _htvszp7gl  {'namespace': '', 'app': 's~saydimkaygunoldu',...        []   \n",
       "\n",
       "   __has_error__ createdAt updatedAt order  \n",
       "0          False       NaN       NaN   NaN  \n",
       "1          False       NaN       NaN   NaN  \n",
       "2          False       NaN       NaN   NaN  \n",
       "3          False       NaN       NaN   NaN  \n",
       "4          False       NaN       NaN   NaN  "
      ]
     },
     "execution_count": 125,
     "metadata": {},
     "output_type": "execute_result"
    }
   ],
   "source": [
    "\"\"\"\n",
    "    This is now a function docstring associated\n",
    "    with the function object and accessible as\n",
    "    run-time metadata.\n",
    "\"\"\"\n",
    "df.head()\n",
    "# print first five records"
   ]
  },
  {
   "cell_type": "markdown",
   "source": [
    "## results"
   ],
   "metadata": {
    "collapsed": false
   }
  }
 ],
 "metadata": {
  "kernelspec": {
   "display_name": "Python 3 (ipykernel)",
   "language": "python",
   "name": "python3"
  },
  "language_info": {
   "codemirror_mode": {
    "name": "ipython",
    "version": 3
   },
   "file_extension": ".py",
   "mimetype": "text/x-python",
   "name": "python",
   "nbconvert_exporter": "python",
   "pygments_lexer": "ipython3",
   "version": "3.9.6"
  }
 },
 "nbformat": 4,
 "nbformat_minor": 5
}